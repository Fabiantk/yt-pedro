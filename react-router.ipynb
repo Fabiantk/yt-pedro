{
 "cells": [
  {
   "cell_type": "markdown",
   "metadata": {},
   "source": [
    "# Contents\n",
    "1. React Router Basics\n",
    "2. Advanced Route Definitions\n",
    "3. Handling Navigation\n",
    "4. Routers In Depth\n"
   ]
  },
  {
   "cell_type": "markdown",
   "metadata": {},
   "source": [
    "## 1. Router Basics\n",
    "- Setup your router\n",
    "  - import a Router and wrap the entire application\n",
    "- Define your routes\n",
    "  - Wrap a `Routes` component around your `<Route path=\"\" element={component} />` components \n",
    "- Handle navigation\n",
    "  - Use the `<Link to=\"\" />` component \n",
    "\n",
    "#### a. Configuring the Router\n",
    "All you need to do is import the specific router you need (`BrowserRouter` for the web and `NativeRouter` for mobile) and wrap your entire application in that router.\n",
    "\n",
    "```js\n",
    "  <BrowserRouter>\n",
    "    <App />\n",
    "  </BrowserRouter>\n",
    "```\n",
    "\n",
    "Generally you will import your router in the `index.js` page of your application and it will wrap your `App` component. The router works just like a context in React and provides all the necessary information to your application so you can do routing and use all the custom hooks from React Router."
   ]
  },
  {
   "cell_type": "markdown",
   "metadata": {},
   "source": [
    "#### b. Defining Routes\n",
    "The next step is to define your routes. This is generally done at the top level of your application, such as in the `App` component, but can be done anywhere you want. Defining routes is as simple as defining a single `Route` component for each route in your application and then putting all those `Route` components in a single `Routes` component\n",
    "\n",
    "```js\n",
    "  <Routes>\n",
    "    <Route path=\"/\" element={<Home />} />\n",
    "    <Route path=\"/books\" element={<BookList />} />\n",
    "  </Routes>\n",
    "```\n",
    "\n",
    "Whenever your URL changes React Router will look at the routes defined in your `Routes` component and it will render the content in the `element` prop of the `Route` that has a path that matches the URL. In the above example if our URL was `/books` then the `BookList` component would be rendered.\n",
    "\n",
    "The nice thing about React Router is that when you navigate between pages it will only refresh the content inside your `Routes` component. All the rest of the content on your page will stay the same which helps with performance and user experience."
   ]
  },
  {
   "cell_type": "markdown",
   "metadata": {},
   "source": [
    "#### c. Handling Navigation\n",
    "\n",
    "The final step to React Router is handling navigation. Normally in an application you would navigate with anchor tags, but React Router uses its own custom `Link` component to handle navigation. This `Link` component is just a wrapper around an anchor tag that helps ensure all the routing and conditional re-rendering is handled properly so you can use it just like your would a normal anchor tag.\n",
    "\n",
    "```js\n",
    "  <Link to=\"/\">Home</Link>\n",
    "  <Link to=\"/books\">Books</Link>\n",
    "```\n",
    "\n",
    "You will also notice that we used the `to` prop to set the URL instead of the `href` prop you are used to using with an anchor tag. This is the only difference between the `Link` component and an anchor tag.\n",
    "\n",
    "Another thing to note about our new code is that the `nav` we are rending at the top of our page is outside of our `Routes` component which means when we change pages this `nav` section will not be re-rendered as only the content in the `Routes` component will change when the URL changes"
   ]
  },
  {
   "cell_type": "markdown",
   "metadata": {},
   "source": [
    "## 2. Advanced Route Definitions\n",
    "This is where React Router really gets interesting. There is a lot of cool stuff you can do with routing to make more complex routes, easier to read, and overall much more functional. This can be done through five main techniques.\n",
    "- Dynamic Routing\n",
    "- Routing Priority\n",
    "- Nested Routes\n",
    "- Multiple Routes\n",
    "- `useRoutes` Hook\n",
    "\n",
    "#### a. Dynamic Routing\n",
    "The simplest and most common advanced feature in React Router is handling dynamic routes. In our example, let’s assume that we want to render out a component for individual books in our application. We could hardcode each of those routes, but if we have hundreds of books or the ability for users to create books then it is impossible to hardcode all these routes. Instead we need a dynamic route.\n",
    "\n",
    "```js\n",
    "  <Route path=\"/books\" element={<BookList />} />\n",
    "  <Route path=\"/books/:id\" element={<Book />} />\n",
    "```\n",
    "\n",
    "The final route in the above example is a dynamic route that has a dynamic parameter of `:id`. Defining dynamic routes in React Router is as simple as putting a colon in front of whatever you want the dynamic part of your route to be. In our case our dynamic route will match any URL that starts with `/book` and ends with some value. For example, `/books/1`, `/books/bookName`, and `/books/literally-anything` will all match our dynamic route.\n",
    "\n",
    "Pretty much always when you have a dynamic route like this you want to access the dynamic value in your custom component which is where the `useParams` hook comes in.\n",
    "\n",
    "```js \n",
    "import { useParams } from \"react-router-dom\"\n",
    "\n",
    "export function Book() {\n",
    "  const { id } = useParams()\n",
    "\n",
    "  return <h1>Book {id}</h1>\n",
    "}\n",
    "```\n",
    "\n",
    "The `useParams` hook takes no parameters and will return an object with keys that match the dynamic parameters in your route. In our case our dynamic parameter is `:id` so the `useParams` hook will return an object that has a key of `id` and the value of that key will be the actual id in our URL. For example, if our URL was `/books/3` our page would render `Book 3`."
   ]
  },
  {
   "cell_type": "markdown",
   "metadata": {},
   "source": [
    "#### b. Routing Priority\n",
    "When we were just dealing with hard coded routes it was pretty easy to know which route would be rendered, but when dealing with dynamic routes it can be a bit more complicated. Take these routes for example.\n",
    "\n",
    "```js\n",
    "  <Route path=\"/books/:id\" element={<Book />} />\n",
    "  <Route path=\"/books/new\" element={<NewBook />} />\n",
    "```\n",
    "If we have the URL `/books/new` which route would this match? Technically, we have two routes that match. Both `/books/:id` and `/books/new` will match since the dynamic route will just assume that `new` is the `:id` portion of the URL so React Router needs another way to determine which route to render.\n",
    "\n",
    "In older versions of React Router whichever route was defined first would be the one that is rendered so in our case the `/books/:id` route would be rendered, which is obviously not what we want. Luckily, version 6 of React Router changed this so now React Router will use an algorithm to determine which route is most likely the one you want. In our case we obviously want to render the `/books/new` route so React Router will select that route for us. The actual way this algorithm works is very similar to CSS specificity since it will try to determine which route that matches our URL is the most specific (has the least amount of dynamic elements) and it will select that route\n",
    "\n",
    "While we are on the topic of routing priority I also want to talk about how to create a route that matches anything.\n",
    "\n",
    "```js\n",
    "  <Route path=\"*\" element={<NotFound />} />\n",
    "```\n",
    "\n",
    "A `*` will match anything at all which makes it perfect for things like a 404 page. A route that contains a `*` will also be less specific than anything else so you will never accidentally match a `*` route when another route would have also matched."
   ]
  },
  {
   "cell_type": "markdown",
   "metadata": {},
   "source": [
    "#### c. Nested Routes\n",
    "In the above example we have three routes that start with `/books` so we can nest those routes inside of each other to clean up our routes.\n",
    "\n",
    "```js\n",
    "  <Route path=\"/books\">\n",
    "    <Route index element={<BookList />} />\n",
    "    <Route path=\":id\" element={<Book />} />\n",
    "    <Route path=\"new\" element={<NewBook />} />\n",
    "  </Route>\n",
    "```\n",
    "\n",
    "All you need to do is make a parent `Route` that has the `path` prop set to the shared path for all your child `Route` components. Then inside the parent `Route` you can put all the child `Route` components. The only difference is that the `path` prop of the child `Route` components no longer includes the shared `/books` route. Also, the route for `/books` is replaced with a `Route` component that has no `path` prop, but instead has an `index` prop. All this is saying is that the path of the index `Route` is the same as the parent Route.\n",
    "\n",
    "Now if this is all you could do with nested routes it would be only marginally useful, but the true power of nested routes comes in how it handles shared layouts\n"
   ]
  },
  {
   "cell_type": "markdown",
   "metadata": {},
   "source": [
    "##### Shared Layouts\n",
    "If you pass an `element` prop to a parent route it will render that component for every single child `Route` which means you can put a shared `nav` or other shared components on every child page with ease.\n",
    "\n",
    "```js\n",
    "// file: App.js\n",
    "import {BooksLayout} from `./Booklayout`\n",
    "\n",
    "function App(){\n",
    "  // same as before\n",
    "    <Route path=\"/books\" element={<BooksLayout />}>\n",
    "        <Route index element={<BookList />} />\n",
    "        <Route path=\":id\" element={<Book />} />\n",
    "        <Route path=\"new\" element={<NewBook />} />\n",
    "    </Route>\n",
    "}\n",
    "\n",
    "// file: BooksLayout.js\n",
    "import {Link, Outlet} from 'react-router-dom';\n",
    "\n",
    "export function BooksLayout(){\n",
    "  return (\n",
    "    <>\n",
    "      <div>\n",
    "        <Link to=\"books/1\">Book 1</Link>\n",
    "        <Link to=\"books/2\">Book 2</Link>\n",
    "        <Link to=\"books/new\">New Book</Link>\n",
    "      </div>\n",
    "      <Outlet>\n",
    "    </>\n",
    "  );\n",
    "}\n",
    "```\n",
    "\n",
    "The way our new code will work is whenever we match a route inside the `/book` parent `Route` it will render the `BooksLayout` component which contains our shared navigation. Then whichever child `Route` is matched will be rendered wherever the `Outlet` component is placed inside our layout component. The `Outlet` component is essentially a placeholder component that will render whatever our current page’s content is. This structure is incredibly useful and makes sharing code between routes incredibly easy."
   ]
  },
  {
   "cell_type": "markdown",
   "metadata": {},
   "source": [
    "Now the final way you can share layouts with React Router is by wrapping child `Route` components in a parent `Route` that only defines an `element` prop and no `path` prop\n",
    "\n",
    "```js\n",
    "  <Route element={<OtherLayout />}>\n",
    "    <Route path=\"/contact\" element={<Contact />} />\n",
    "    <Route path=\"/about\" element={<About />} />\n",
    "  </Route>\n",
    "```\n",
    "\n",
    "This bit of code will create two routes, `/contact` and `/about`, which both are rendered inside the `OtherLayout` component. This technique of wrapping multiple `Route` components in a parent `Route` component with no `path` prop is useful if you want those routes to share a single layout even if they don’t have a similar path."
   ]
  },
  {
   "cell_type": "markdown",
   "metadata": {},
   "source": [
    "##### Outlet Context\n",
    "\n",
    "The final important thing to know about `Outlet` components is they can take in a `context` prop which will work just like React context.\n",
    "\n",
    "```js\n",
    "// file: BookLayouts.js\n",
    "<div>\n",
    "  <div>\n",
    "    <Link to=\"books/1\">Book 1</Link>\n",
    "    <Link to=\"books/2\">Book 2</Link>\n",
    "    <Link to=\"books/new\">New Book</Link>\n",
    "  </div>\n",
    "  <Outlet context={{ hello: \"world\" }} />\n",
    "</div>\n",
    "\n",
    "// file: Book.js\n",
    "import { useParams, useOutletContext } from \"react-router-dom\"\n",
    "\n",
    "export function Book() {\n",
    "  const { id } = useParams()\n",
    "  const context = useOutletContext()\n",
    "\n",
    "  return (\n",
    "    <h1>\n",
    "      Book {id} {context.hello}\n",
    "    </h1>\n",
    "  )\n",
    "}\n",
    "```\n",
    "\n",
    "As you can see from this example, we are passing down a context value of `{ hello: \"world\" }` and then in our child component we are using the `useOutletContext` hook to access the value for our context. This is a pretty common pattern to use since often you will have shared data between all your child components which is the ideal use case for this context."
   ]
  },
  {
   "cell_type": "markdown",
   "metadata": {},
   "source": []
  },
  {
   "cell_type": "markdown",
   "metadata": {},
   "source": []
  },
  {
   "cell_type": "markdown",
   "metadata": {},
   "source": []
  },
  {
   "cell_type": "markdown",
   "metadata": {},
   "source": []
  },
  {
   "cell_type": "markdown",
   "metadata": {},
   "source": []
  },
  {
   "cell_type": "markdown",
   "metadata": {},
   "source": []
  }
 ],
 "metadata": {
  "kernelspec": {
   "display_name": "Deno",
   "language": "typescript",
   "name": "deno"
  },
  "language_info": {
   "name": "typescript"
  }
 },
 "nbformat": 4,
 "nbformat_minor": 2
}
